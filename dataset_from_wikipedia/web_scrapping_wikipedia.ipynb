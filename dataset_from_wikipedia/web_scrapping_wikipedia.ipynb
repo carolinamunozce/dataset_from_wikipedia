{
 "cells": [
  {
   "cell_type": "code",
   "execution_count": 1,
   "metadata": {},
   "outputs": [],
   "source": [
    "import pandas as pd\n",
    "import numpy as np"
   ]
  },
  {
   "cell_type": "code",
   "execution_count": 2,
   "metadata": {},
   "outputs": [],
   "source": [
    "## Notebook that allows get a Dataset information from Wikipedia table web. Also, we can clean of information for future \n",
    "## analyzing and comparation, show graphics with matplotlib, Seaborn library.\n",
    "\n",
    "#Source: https://www.youtube.com/watch?v=KokJHxiE14s&t=323s"
   ]
  },
  {
   "cell_type": "code",
   "execution_count": 3,
   "metadata": {},
   "outputs": [
    {
     "ename": "SyntaxError",
     "evalue": "invalid syntax (Temp/ipykernel_22668/3054794213.py, line 2)",
     "output_type": "error",
     "traceback": [
      "\u001b[1;36m  File \u001b[1;32m\"C:\\Users\\carol\\AppData\\Local\\Temp/ipykernel_22668/3054794213.py\"\u001b[1;36m, line \u001b[1;32m2\u001b[0m\n\u001b[1;33m    <html>\u001b[0m\n\u001b[1;37m    ^\u001b[0m\n\u001b[1;31mSyntaxError\u001b[0m\u001b[1;31m:\u001b[0m invalid syntax\n"
     ]
    }
   ],
   "source": [
    "###Example HTML\n",
    "\"\"\"<html>\n",
    "<table>\n",
    "  <tr>\n",
    "    <th>First Name</th>\n",
    "    <th>Last Name</th>\n",
    "    <th>Email Address</th>\n",
    "  </tr>\n",
    "  <tr>\n",
    "   <td>Hillary</td>\n",
    "   <td>Nyakundi</td>\n",
    "   <td>tables@mail.com</td>\n",
    "  </tr>\n",
    "  <tr>\n",
    "    <td>Lary</td>\n",
    "    <td>Mak</td>\n",
    "    <td>developer@mail.com</td>\n",
    "  </tr>\n",
    "</table>\n",
    "</html>\"\"\""
   ]
  },
  {
   "cell_type": "code",
   "execution_count": null,
   "metadata": {},
   "outputs": [],
   "source": [
    "html_string = \"\"\"\n",
    "<html>\n",
    "<table>\n",
    "  <tr>\n",
    "    <th>First Name</th>\n",
    "    <th>Last Name</th>\n",
    "    <th>Email Address</th>\n",
    "  </tr>\n",
    "  <tr>\n",
    "   <td>Hillary</td>\n",
    "   <td>Nyakundi</td>\n",
    "   <td>tables@mail.com</td>\n",
    "  </tr>\n",
    "  <tr>\n",
    "    <td>Lary</td>\n",
    "    <td>Mak</td>\n",
    "    <td>developer@mail.com</td>\n",
    "  </tr>\n",
    "</table>\n",
    "</html>\"\"\""
   ]
  },
  {
   "cell_type": "code",
   "execution_count": null,
   "metadata": {},
   "outputs": [],
   "source": [
    "dfs = pd.read_html(html_string)\n",
    "type(dfs)"
   ]
  },
  {
   "cell_type": "markdown",
   "metadata": {},
   "source": [
    "##### Pull from Wikipedia"
   ]
  },
  {
   "cell_type": "code",
   "execution_count": null,
   "metadata": {},
   "outputs": [],
   "source": [
    "dfs = pd.read_html('https://en.wikipedia.org/wiki/100_meters')"
   ]
  },
  {
   "cell_type": "code",
   "execution_count": null,
   "metadata": {},
   "outputs": [],
   "source": [
    "mens100m = dfs[5]\n",
    "womens100m = dfs[6]"
   ]
  },
  {
   "cell_type": "code",
   "execution_count": null,
   "metadata": {},
   "outputs": [],
   "source": [
    "mens100m.head()"
   ]
  },
  {
   "cell_type": "code",
   "execution_count": null,
   "metadata": {},
   "outputs": [],
   "source": [
    "mens100m['Time'] = mens100m['Time'].str.replace('[A]','', regex=False) \\\n",
    "    .str.replace('h','', regex=False)\n",
    "mens100m['Time']= pd.to_numeric(mens100m['Time'])"
   ]
  },
  {
   "cell_type": "code",
   "execution_count": null,
   "metadata": {},
   "outputs": [],
   "source": [
    "womens100m['Time'] = womens100m['Time'].str.replace('[A]','', regex=False) \\\n",
    "    .str.replace('h','', regex=False) \\\n",
    "    .str.replace('[a]','', regex=False)\n",
    "womens100m['Time'] = pd.to_numeric(womens100m['Time'])"
   ]
  },
  {
   "cell_type": "code",
   "execution_count": null,
   "metadata": {},
   "outputs": [],
   "source": [
    "womens100m"
   ]
  },
  {
   "cell_type": "code",
   "execution_count": null,
   "metadata": {},
   "outputs": [],
   "source": [
    "#Plot Data"
   ]
  },
  {
   "cell_type": "code",
   "execution_count": null,
   "metadata": {},
   "outputs": [],
   "source": [
    "import matplotlib.pyplot as plt\n",
    "plt.style.use('ggplot')"
   ]
  },
  {
   "cell_type": "code",
   "execution_count": null,
   "metadata": {},
   "outputs": [],
   "source": [
    "mens100m['Name'] = mens100m['Year'].astype('str') + ': '+mens100m['Athlete']\n",
    "womens100m['Name'] = womens100m['Year'].astype('str') + ': '+mens100m['Athlete']"
   ]
  },
  {
   "cell_type": "code",
   "execution_count": null,
   "metadata": {},
   "outputs": [],
   "source": [
    "import seaborn as sns\n",
    "color_pal=sns.color_palette()"
   ]
  },
  {
   "cell_type": "code",
   "execution_count": null,
   "metadata": {},
   "outputs": [],
   "source": [
    "fig, axs = plt.subplots(1, 2, figsize=(10,10))\n",
    "mens100m.sort_values('Year', ascending=False)\\\n",
    "    .set_index('Name')['Time'].plot(kind='barh', ax=axs[0])\n",
    "ax = axs[0].set_xlim(9.4, 10.2)\n",
    "ax = axs[0].set_title('Mens Season Beast 100m Dash')\n",
    "\n",
    "womens100m.sort_values('Year', ascending=False)\\\n",
    "    .set_index('Name')['Time'].plot(kind='barh', ax=axs[1],\n",
    "                                color=color_pal[1])\n",
    "ax = axs[1].set_xlim(10.4, 11.4)\n",
    "ax = axs[1].set_title('Womens Season Beast 100m Dash')\n",
    "plt.tight_layout()\n",
    "plt.show()"
   ]
  },
  {
   "cell_type": "code",
   "execution_count": null,
   "metadata": {},
   "outputs": [],
   "source": [
    "mens100m.to_csv('mens100m.txt', index=False)\n",
    "womens100m.to_csv('womes100m.txt', index=False)"
   ]
  },
  {
   "cell_type": "code",
   "execution_count": null,
   "metadata": {},
   "outputs": [],
   "source": []
  }
 ],
 "metadata": {
  "kernelspec": {
   "display_name": "Python 3 (ipykernel)",
   "language": "python",
   "name": "python3"
  },
  "language_info": {
   "codemirror_mode": {
    "name": "ipython",
    "version": 3
   },
   "file_extension": ".py",
   "mimetype": "text/x-python",
   "name": "python",
   "nbconvert_exporter": "python",
   "pygments_lexer": "ipython3",
   "version": "3.9.7"
  },
  "vscode": {
   "interpreter": {
    "hash": "fc577fa0e1fc05fd1388a04c399941c4160db32a4d5062e46e64d5cad5b7d71b"
   }
  }
 },
 "nbformat": 4,
 "nbformat_minor": 2
}
